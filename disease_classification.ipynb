{
 "cells": [
  {
   "cell_type": "markdown",
   "metadata": {},
   "source": [
    "#### This file has the code to finetune a geneformer model for disease classification.\n",
    "#### The evaluation is a 1-step evaluation rather than k-fold"
   ]
  },
  {
   "cell_type": "markdown",
   "metadata": {},
   "source": [
    "### Step 0 Imports and Global Vars"
   ]
  },
  {
   "cell_type": "code",
   "execution_count": 15,
   "metadata": {},
   "outputs": [],
   "source": [
    "import pickle, datetime, subprocess, os, torch\n",
    "import numpy as np\n",
    "import pandas as pd\n",
    "import perturber_utils as pu\n",
    "import evaluation_utils as eu\n",
    "import classifier_utils as cu\n",
    "from classifier import Classifier\n",
    "from pathlib import Path\n",
    "\n",
    "import logging\n",
    "logger = logging.getLogger(__name__)\n",
    "\n",
    "from collator_for_classification import DataCollatorForCellClassification\n",
    "from transformers import Trainer\n",
    "\n",
    "output_prefix = \"test\"\n",
    "output_dir = \"./preprocessed_dataset\"\n",
    "classifier = \"cell\"\n",
    "# previously balanced splits with prepare_data and validate functions\n",
    "# argument attr_to_split set to \"individual\" and attr_to_balance set to [\"disease\",\"lvef\",\"age\",\"sex\",\"length\"]\n",
    "train_ids = [\"1447\", \"1600\", \"1462\", \"1558\", \"1300\", \"1508\", \"1358\", \"1678\", \"1561\", \"1304\", \"1610\", \"1430\", \"1472\", \"1707\", \"1726\", \"1504\", \"1425\", \"1617\", \"1631\", \"1735\", \"1582\", \"1722\", \"1622\", \"1630\", \"1290\", \"1479\", \"1371\", \"1549\", \"1515\"]\n",
    "eval_ids = [\"1422\", \"1510\", \"1539\", \"1606\", \"1702\"]\n",
    "test_ids = [\"1437\", \"1516\", \"1602\", \"1685\", \"1718\"]\n",
    "\n",
    "train_test_id_split_dict = {\"attr_key\": \"individual\",\n",
    "                            \"train\": train_ids+eval_ids,\n",
    "                            \"test\": test_ids}\n",
    "\n",
    "training_args = {\n",
    "    \"num_train_epochs\": 0.9,\n",
    "    \"learning_rate\": 0.000804,\n",
    "    \"lr_scheduler_type\": \"polynomial\",\n",
    "    \"warmup_steps\": 1812,\n",
    "    \"weight_decay\":0.258828,\n",
    "    \"per_device_train_batch_size\": 12,\n",
    "    \"seed\": 73,\n",
    "}                            "
   ]
  },
  {
   "cell_type": "markdown",
   "metadata": {},
   "source": [
    "### Step 1 Prepare the data\n",
    "\n",
    "This step should be ran for only once to get the data ready."
   ]
  },
  {
   "cell_type": "code",
   "execution_count": 3,
   "metadata": {},
   "outputs": [],
   "source": [
    "# # select the cell types\n",
    "# filter_data_dict={\"cell_type\":[\"Cardiomyocyte1\",\"Cardiomyocyte2\",\"Cardiomyocyte3\"]}\n",
    "\n",
    "# # training_args and cc = Classifier initialization is for the purpose of doing the data preparations (cc.prepare_data)\n",
    "# training_args = {\n",
    "#     \"num_train_epochs\": 0.9,\n",
    "#     \"learning_rate\": 0.000804,\n",
    "#     \"lr_scheduler_type\": \"polynomial\",\n",
    "#     \"warmup_steps\": 1812,\n",
    "#     \"weight_decay\":0.258828,\n",
    "#     \"per_device_train_batch_size\": 12,\n",
    "#     \"seed\": 73,\n",
    "# }\n",
    "# cc = Classifier(classifier=\"cell\",\n",
    "#                 cell_state_dict = {\"state_key\": \"disease\", \"states\": \"all\"},\n",
    "#                 filter_data=filter_data_dict,\n",
    "#                 training_args=training_args,\n",
    "#                 max_ncells=None,\n",
    "#                 freeze_layers = 2,\n",
    "#                 num_crossval_splits = 1,\n",
    "#                 forward_batch_size=200,\n",
    "#                 nproc=1)\n",
    "\n",
    "\n",
    "# # Example input_data_file: https://huggingface.co/datasets/ctheodoris/Genecorpus-30M/tree/main/example_input_files/cell_classification/disease_classification/human_dcm_hcm_nf.dataset\n",
    "# cc.prepare_data(input_data_file=\"./human_dcm_hcm_nf.dataset\",\n",
    "#                 output_directory=output_dir,\n",
    "#                 output_prefix=output_prefix,\n",
    "#                 split_id_dict=train_test_id_split_dict)"
   ]
  },
  {
   "cell_type": "markdown",
   "metadata": {},
   "source": [
    "### Step 2 Get the data and model ready"
   ]
  },
  {
   "cell_type": "markdown",
   "metadata": {},
   "source": [
    "#### 1) Data preparation"
   ]
  },
  {
   "cell_type": "code",
   "execution_count": 13,
   "metadata": {},
   "outputs": [
    {
     "name": "stdout",
     "output_type": "stream",
     "text": [
      "Training data has 93589 rows,with labels being {0, 1, 2}, indicating 3 diseases: {0: 'dcm', 1: 'nf', 2: 'hcm'}\n",
      "Evaluation data has 21778 rows, with labels being {0, 1, 2}, indicating 3 diseases: {0: 'dcm', 1: 'nf', 2: 'hcm'}\n"
     ]
    }
   ],
   "source": [
    "train_valid_id_split_dict = {\"attr_key\": \"individual\",\n",
    "                            \"train\": train_ids,\n",
    "                            \"eval\": eval_ids}\n",
    "\n",
    "prepared_input_data_file=f\"{output_dir}/{output_prefix}_labeled_train.dataset\"                            \n",
    "\n",
    "##### Load data and prepare output directory #####\n",
    "# load numerical id to class dictionary (id:class)\n",
    "with open(f\"{output_dir}/{output_prefix}_id_class_dict.pkl\", \"rb\") as f:\n",
    "    id_class_dict = pickle.load(f)\n",
    "class_id_dict = {v: k for k, v in id_class_dict.items()}\n",
    "\n",
    "# load previously filtered and prepared data\n",
    "nproc = 1 # can be more than 1, up to the number of processers of the cpu\n",
    "data = pu.load_and_filter(None, nproc, prepared_input_data_file)\n",
    "data = data.shuffle(seed=42)  # reshuffle in case users provide unshuffled data\n",
    "\n",
    "# define output directory path\n",
    "current_date = datetime.datetime.now()\n",
    "datestamp = f\"{str(current_date.year)[-2:]}{current_date.month:02d}{current_date.day:02d}\"\n",
    "if output_dir[-1:] != \"/\":  # add slash for dir if not present\n",
    "    output_dir = output_dir + \"/\"\n",
    "output_dir_ = f\"{output_dir}{datestamp}_geneformer_{classifier}Classifier_{output_prefix}/\"\n",
    "subprocess.call(f\"mkdir {output_dir_}\", shell=True)\n",
    "\n",
    "# get number of classes for classifier\n",
    "num_classes = len(id_class_dict)\n",
    "\n",
    "# get the train/eval split ready\n",
    "results = []\n",
    "all_conf_mat = np.zeros((num_classes, num_classes))\n",
    "\n",
    "data_dict = dict()\n",
    "data_dict[\"train\"] = pu.filter_by_dict(\n",
    "    data,\n",
    "    {train_valid_id_split_dict[\"attr_key\"]: train_valid_id_split_dict[\"train\"]},\n",
    "    nproc,\n",
    ")\n",
    "data_dict[\"test\"] = pu.filter_by_dict(\n",
    "    data,\n",
    "    {train_valid_id_split_dict[\"attr_key\"]: train_valid_id_split_dict[\"eval\"]},\n",
    "    nproc,\n",
    ")\n",
    "\n",
    "train_data = data_dict[\"train\"]\n",
    "eval_data = data_dict[\"test\"]\n",
    "\n",
    "# Further clean up the data: dropping columns 8 to 3\n",
    "train_data, eval_data = cu.validate_and_clean_cols(\n",
    "            train_data, eval_data, classifier)\n",
    "\n",
    "# output a data summary on training\n",
    "label_set = set(train_data[\"label\"])\n",
    "print(f\"Training data has {len(train_data)} rows,\\\n",
    "with labels being {label_set}, indicating {len(id_class_dict)} diseases: {id_class_dict}\")  \n",
    "\n",
    "# # output a data summary on evaluation\\\n",
    "label_set = set(eval_data[\"label\"])\n",
    "print(f\"Evaluation data has {len(eval_data)} rows, \\\n",
    "with labels being {label_set}, indicating {len(id_class_dict)} diseases: {id_class_dict}\")              "
   ]
  },
  {
   "cell_type": "markdown",
   "metadata": {},
   "source": [
    "#### 2) Re-encode the data"
   ]
  },
  {
   "cell_type": "code",
   "execution_count": null,
   "metadata": {},
   "outputs": [],
   "source": [
    "# \"\"\"\n",
    "# Important:\n",
    "# 1. I will use the information in train_data[\"input_ids\"] to train a new tokenizer\n",
    "# \"\"\"\n",
    "# tokenized_dataset = train_data[\"input_ids\"]\n",
    "\n",
    "# # start the training\n",
    "# final_vocab_size = 40000\n",
    "# tokenizer_path = os.getcwd()+\"/saved_tokenizers\"\n",
    "# tokenizer_list = os.listdir(tokenizer_path)\n",
    "# if tokenizer_list == []:\n",
    "#     print(\"Train from the beginning...\")\n",
    "#     from Tokenization import GeneTokenizer\n",
    "#     tokenizer = GeneTokenizer()\n",
    "#     tokenizer.train(tokenized_dataset,final_vocab_size)\n",
    "# else:\n",
    "#     import re\n",
    "#     tokenizer_list.sort(key=lambda f: int(re.sub('\\D','',f)))\n",
    "#     most_current_tokenizer = tokenizer_list[-1]\n",
    "#     print(f\"Load {most_current_tokenizer}...\")\n",
    "#     import pickle\n",
    "#     tokenizer = pickle.load(open(tokenizer_path+\"/\"+most_current_tokenizer,\"rb\"))\n",
    "#     tokenizer.train(tokenized_dataset,final_vocab_size)    \n",
    "\n",
    "\"\"\"\n",
    "2. This is where I can load up my trained tokenizer to re-encode the tokens \n",
    "in train_data[\"input_ids\"] and eval_data[\"input_ids\"]\n",
    "\"\"\"\n",
    "\n",
    "#TBD\n",
    "#TBD\n",
    "#TBD"
   ]
  },
  {
   "cell_type": "markdown",
   "metadata": {},
   "source": [
    "#### 3) Get the model ready"
   ]
  },
  {
   "cell_type": "code",
   "execution_count": 16,
   "metadata": {},
   "outputs": [
    {
     "data": {
      "text/plain": [
       "'\\n3. Here is where I can change the Embedding and Positional Encoding layers\\n'"
      ]
     },
     "execution_count": 16,
     "metadata": {},
     "output_type": "execute_result"
    }
   ],
   "source": [
    "# 2) get the model ready\n",
    "\n",
    "iteration_num = 1 # if 1 then no k-fold cross validation\n",
    "ksplit_output_dir = os.path.join(output_dir, f\"ksplit{iteration_num}\")\n",
    "\n",
    "# ensure not overwriting previously saved model\n",
    "saved_model_test = os.path.join(ksplit_output_dir, \"pytorch_model.bin\")\n",
    "if os.path.isfile(saved_model_test) is True:\n",
    "    logger.error(\"Model already saved to this designated output directory.\")\n",
    "    raise\n",
    "\n",
    "# make output directory\n",
    "subprocess.call(f\"mkdir {ksplit_output_dir}\", shell=True)\n",
    "\n",
    "##### Load model and training args #####\n",
    "model_type = \"CellClassifier\"\n",
    "model_directory=r\"D:\\work\\Spring 2024\\geneformer\\Geneformer\\fine_tuned_models\\geneformer-6L-30M_CellClassifier_cardiomyopathies_220224\"\n",
    "model = pu.load_model(model_type, num_classes, model_directory, \"train\")   \n",
    "\n",
    "classifier_type = \"cell\"\n",
    "def_training_args, def_freeze_layers = cu.get_default_train_args(\n",
    "            model, classifier, train_data, ksplit_output_dir)\n",
    "\n",
    "if training_args is not None:\n",
    "    def_training_args.update(training_args)\n",
    "    logging_steps = round(\n",
    "        len(train_data) / def_training_args[\"per_device_train_batch_size\"] / 10\n",
    "    )\n",
    "\n",
    "def_training_args[\"logging_steps\"] = logging_steps\n",
    "def_training_args[\"output_dir\"] = ksplit_output_dir\n",
    "\n",
    "from transformers.training_args import TrainingArguments\n",
    "training_args_init = TrainingArguments(**def_training_args)\n",
    "\n",
    "\n",
    "# The number of layers to be frozen for finetuning\n",
    "def_freeze_layers = 2\n",
    "if def_freeze_layers > 0:\n",
    "    modules_to_freeze = model.bert.encoder.layer[:def_freeze_layers]\n",
    "    for module in modules_to_freeze:\n",
    "        for param in module.parameters():\n",
    "            param.requires_grad = False\n",
    "\n",
    "####################################################\n",
    "# 3. Here is where I can change the Embedding layer\n",
    "####################################################\n",
    "# new_vocab_size = 40000\n",
    "# d_dimension = 256 # according to the model\n",
    "# model.bert.embeddings.word_embeddings.weight.data = \\\n",
    "#     torch.tensor(np.random.randn(new_vocab_size,d_dimension),\n",
    "#     dtype=torch.float32,\n",
    "#     device=\"cuda\")"
   ]
  },
  {
   "cell_type": "markdown",
   "metadata": {},
   "source": [
    "### Step 3 Finetune the model"
   ]
  },
  {
   "cell_type": "code",
   "execution_count": null,
   "metadata": {},
   "outputs": [],
   "source": [
    "data_collator = DataCollatorForCellClassification()\n",
    "# create the trainer\n",
    "trainer = Trainer(\n",
    "    model=model,\n",
    "    args=training_args_init,\n",
    "    data_collator=data_collator,\n",
    "    train_dataset=train_data,\n",
    "    eval_dataset=eval_data,\n",
    "    compute_metrics=cu.compute_metrics,\n",
    ")\n",
    "\n",
    "#### FINETUNING ####\n",
    "trainer.train()\n",
    "trainer.save_model(ksplit_output_dir)"
   ]
  },
  {
   "cell_type": "markdown",
   "metadata": {},
   "source": [
    "### Step 4 Evaluate the model"
   ]
  },
  {
   "cell_type": "code",
   "execution_count": 17,
   "metadata": {},
   "outputs": [
    {
     "name": "stderr",
     "output_type": "stream",
     "text": [
      "Hyperparameter tuning is highly recommended for optimal results. No training_args provided; using default hyperparameters.\n"
     ]
    },
    {
     "data": {
      "application/vnd.jupyter.widget-view+json": {
       "model_id": "9106ca0f99824e94afe4d0cb960b2387",
       "version_major": 2,
       "version_minor": 0
      },
      "text/plain": [
       "  0%|          | 0/87 [00:00<?, ?it/s]"
      ]
     },
     "metadata": {},
     "output_type": "display_data"
    },
    {
     "data": {
      "text/plain": [
       "<Figure size 1000x1000 with 0 Axes>"
      ]
     },
     "metadata": {},
     "output_type": "display_data"
    },
    {
     "data": {
      "image/png": "[encoded data removed]",
      "text/plain": [
       "<Figure size 640x480 with 2 Axes>"
      ]
     },
     "metadata": {},
     "output_type": "display_data"
    },
    {
     "ename": "FileNotFoundError",
     "evalue": "[Errno 2] No such file or directory: '.preprocessed_dataset\\\\test_conf_mat.pdf'",
     "output_type": "error",
     "traceback": [
      "\u001b[1;31m---------------------------------------------------------------------------\u001b[0m",
      "\u001b[1;31mFileNotFoundError\u001b[0m                         Traceback (most recent call last)",
      "Cell \u001b[1;32mIn[17], line 14\u001b[0m\n\u001b[0;32m      1\u001b[0m cc \u001b[38;5;241m=\u001b[39m Classifier(classifier\u001b[38;5;241m=\u001b[39m\u001b[38;5;124m\"\u001b[39m\u001b[38;5;124mcell\u001b[39m\u001b[38;5;124m\"\u001b[39m,\n\u001b[0;32m      2\u001b[0m                 cell_state_dict \u001b[38;5;241m=\u001b[39m {\u001b[38;5;124m\"\u001b[39m\u001b[38;5;124mstate_key\u001b[39m\u001b[38;5;124m\"\u001b[39m: \u001b[38;5;124m\"\u001b[39m\u001b[38;5;124mdisease\u001b[39m\u001b[38;5;124m\"\u001b[39m, \u001b[38;5;124m\"\u001b[39m\u001b[38;5;124mstates\u001b[39m\u001b[38;5;124m\"\u001b[39m: \u001b[38;5;124m\"\u001b[39m\u001b[38;5;124mall\u001b[39m\u001b[38;5;124m\"\u001b[39m},\n\u001b[0;32m      3\u001b[0m                 forward_batch_size\u001b[38;5;241m=\u001b[39m\u001b[38;5;241m200\u001b[39m,\n\u001b[0;32m      4\u001b[0m                 nproc\u001b[38;5;241m=\u001b[39m\u001b[38;5;241m1\u001b[39m)    \n\u001b[0;32m      6\u001b[0m all_metrics_test \u001b[38;5;241m=\u001b[39m cc\u001b[38;5;241m.\u001b[39mevaluate_saved_model(\n\u001b[0;32m      7\u001b[0m         model_directory\u001b[38;5;241m=\u001b[39m\u001b[38;5;124mf\u001b[39m\u001b[38;5;124m\"\u001b[39m\u001b[38;5;124m./preprocessed_dataset/240408_geneformer_cellClassifier_test/ksplit1/\u001b[39m\u001b[38;5;124m\"\u001b[39m,\n\u001b[0;32m      8\u001b[0m         id_class_dict_file\u001b[38;5;241m=\u001b[39m\u001b[38;5;124mf\u001b[39m\u001b[38;5;124m\"\u001b[39m\u001b[38;5;124m./preprocessed_dataset/test_id_class_dict.pkl\u001b[39m\u001b[38;5;124m\"\u001b[39m,\n\u001b[1;32m   (...)\u001b[0m\n\u001b[0;32m     11\u001b[0m         output_prefix\u001b[38;5;241m=\u001b[39m\u001b[38;5;124m\"\u001b[39m\u001b[38;5;124mtest\u001b[39m\u001b[38;5;124m\"\u001b[39m,\n\u001b[0;32m     12\u001b[0m )\n\u001b[1;32m---> 14\u001b[0m \u001b[43mcc\u001b[49m\u001b[38;5;241;43m.\u001b[39;49m\u001b[43mplot_conf_mat\u001b[49m\u001b[43m(\u001b[49m\n\u001b[0;32m     15\u001b[0m \u001b[43m        \u001b[49m\u001b[43mconf_mat_dict\u001b[49m\u001b[38;5;241;43m=\u001b[39;49m\u001b[43m{\u001b[49m\u001b[38;5;124;43m\"\u001b[39;49m\u001b[38;5;124;43mGeneformer\u001b[39;49m\u001b[38;5;124;43m\"\u001b[39;49m\u001b[43m:\u001b[49m\u001b[43m \u001b[49m\u001b[43mall_metrics_test\u001b[49m\u001b[43m[\u001b[49m\u001b[38;5;124;43m\"\u001b[39;49m\u001b[38;5;124;43mconf_matrix\u001b[39;49m\u001b[38;5;124;43m\"\u001b[39;49m\u001b[43m]\u001b[49m\u001b[43m}\u001b[49m\u001b[43m,\u001b[49m\n\u001b[0;32m     16\u001b[0m \u001b[43m        \u001b[49m\u001b[43moutput_directory\u001b[49m\u001b[38;5;241;43m=\u001b[39;49m\u001b[38;5;124;43m\"\u001b[39;49m\u001b[38;5;124;43m.preprocessed_dataset\u001b[39;49m\u001b[38;5;124;43m\"\u001b[39;49m\u001b[43m,\u001b[49m\n\u001b[0;32m     17\u001b[0m \u001b[43m        \u001b[49m\u001b[43moutput_prefix\u001b[49m\u001b[38;5;241;43m=\u001b[39;49m\u001b[38;5;124;43m\"\u001b[39;49m\u001b[38;5;124;43mtest\u001b[39;49m\u001b[38;5;124;43m\"\u001b[39;49m\u001b[43m,\u001b[49m\n\u001b[0;32m     18\u001b[0m \u001b[43m        \u001b[49m\u001b[43mcustom_class_order\u001b[49m\u001b[38;5;241;43m=\u001b[39;49m\u001b[43m[\u001b[49m\u001b[38;5;124;43m\"\u001b[39;49m\u001b[38;5;124;43mnf\u001b[39;49m\u001b[38;5;124;43m\"\u001b[39;49m\u001b[43m,\u001b[49m\u001b[38;5;124;43m\"\u001b[39;49m\u001b[38;5;124;43mhcm\u001b[39;49m\u001b[38;5;124;43m\"\u001b[39;49m\u001b[43m,\u001b[49m\u001b[38;5;124;43m\"\u001b[39;49m\u001b[38;5;124;43mdcm\u001b[39;49m\u001b[38;5;124;43m\"\u001b[39;49m\u001b[43m]\u001b[49m\u001b[43m,\u001b[49m\n\u001b[0;32m     19\u001b[0m \u001b[43m)\u001b[49m\n",
      "File \u001b[1;32md:\\work\\Spring 2024\\geneformer\\Geneformer\\test_classifier\\classifier.py:1315\u001b[0m, in \u001b[0;36mClassifier.plot_conf_mat\u001b[1;34m(self, conf_mat_dict, output_directory, output_prefix, custom_class_order)\u001b[0m\n\u001b[0;32m   1297\u001b[0m \u001b[38;5;250m\u001b[39m\u001b[38;5;124;03m\"\"\"\u001b[39;00m\n\u001b[0;32m   1298\u001b[0m \u001b[38;5;124;03mPlot confusion matrix results of evaluating the fine-tuned model.\u001b[39;00m\n\u001b[0;32m   1299\u001b[0m \n\u001b[1;32m   (...)\u001b[0m\n\u001b[0;32m   1311\u001b[0m \u001b[38;5;124;03m    | Same order will be used for all models.\u001b[39;00m\n\u001b[0;32m   1312\u001b[0m \u001b[38;5;124;03m\"\"\"\u001b[39;00m\n\u001b[0;32m   1314\u001b[0m \u001b[38;5;28;01mfor\u001b[39;00m model_name \u001b[38;5;129;01min\u001b[39;00m conf_mat_dict\u001b[38;5;241m.\u001b[39mkeys():\n\u001b[1;32m-> 1315\u001b[0m     \u001b[43meu\u001b[49m\u001b[38;5;241;43m.\u001b[39;49m\u001b[43mplot_confusion_matrix\u001b[49m\u001b[43m(\u001b[49m\n\u001b[0;32m   1316\u001b[0m \u001b[43m        \u001b[49m\u001b[43mconf_mat_dict\u001b[49m\u001b[43m[\u001b[49m\u001b[43mmodel_name\u001b[49m\u001b[43m]\u001b[49m\u001b[43m,\u001b[49m\n\u001b[0;32m   1317\u001b[0m \u001b[43m        \u001b[49m\u001b[43mmodel_name\u001b[49m\u001b[43m,\u001b[49m\n\u001b[0;32m   1318\u001b[0m \u001b[43m        \u001b[49m\u001b[43moutput_directory\u001b[49m\u001b[43m,\u001b[49m\n\u001b[0;32m   1319\u001b[0m \u001b[43m        \u001b[49m\u001b[43moutput_prefix\u001b[49m\u001b[43m,\u001b[49m\n\u001b[0;32m   1320\u001b[0m \u001b[43m        \u001b[49m\u001b[43mcustom_class_order\u001b[49m\u001b[43m,\u001b[49m\n\u001b[0;32m   1321\u001b[0m \u001b[43m    \u001b[49m\u001b[43m)\u001b[49m\n",
      "File \u001b[1;32md:\\work\\Spring 2024\\geneformer\\Geneformer\\test_classifier\\evaluation_utils.py:233\u001b[0m, in \u001b[0;36mplot_confusion_matrix\u001b[1;34m(conf_mat_df, title, output_dir, output_prefix, custom_class_order)\u001b[0m\n\u001b[0;32m    230\u001b[0m plt\u001b[38;5;241m.\u001b[39mshow()\n\u001b[0;32m    232\u001b[0m output_file \u001b[38;5;241m=\u001b[39m (Path(output_dir) \u001b[38;5;241m/\u001b[39m \u001b[38;5;124mf\u001b[39m\u001b[38;5;124m\"\u001b[39m\u001b[38;5;132;01m{\u001b[39;00moutput_prefix\u001b[38;5;132;01m}\u001b[39;00m\u001b[38;5;124m_conf_mat\u001b[39m\u001b[38;5;124m\"\u001b[39m)\u001b[38;5;241m.\u001b[39mwith_suffix(\u001b[38;5;124m\"\u001b[39m\u001b[38;5;124m.pdf\u001b[39m\u001b[38;5;124m\"\u001b[39m)\n\u001b[1;32m--> 233\u001b[0m \u001b[43mdisplay\u001b[49m\u001b[38;5;241;43m.\u001b[39;49m\u001b[43mfigure_\u001b[49m\u001b[38;5;241;43m.\u001b[39;49m\u001b[43msavefig\u001b[49m\u001b[43m(\u001b[49m\u001b[43moutput_file\u001b[49m\u001b[43m,\u001b[49m\u001b[43m \u001b[49m\u001b[43mbbox_inches\u001b[49m\u001b[38;5;241;43m=\u001b[39;49m\u001b[38;5;124;43m\"\u001b[39;49m\u001b[38;5;124;43mtight\u001b[39;49m\u001b[38;5;124;43m\"\u001b[39;49m\u001b[43m)\u001b[49m\n",
      "File \u001b[1;32mc:\\Users\\xfang\\anaconda3\\envs\\geneformer\\lib\\site-packages\\matplotlib\\figure.py:3390\u001b[0m, in \u001b[0;36mFigure.savefig\u001b[1;34m(self, fname, transparent, **kwargs)\u001b[0m\n\u001b[0;32m   3388\u001b[0m     \u001b[38;5;28;01mfor\u001b[39;00m ax \u001b[38;5;129;01min\u001b[39;00m \u001b[38;5;28mself\u001b[39m\u001b[38;5;241m.\u001b[39maxes:\n\u001b[0;32m   3389\u001b[0m         _recursively_make_axes_transparent(stack, ax)\n\u001b[1;32m-> 3390\u001b[0m \u001b[38;5;28mself\u001b[39m\u001b[38;5;241m.\u001b[39mcanvas\u001b[38;5;241m.\u001b[39mprint_figure(fname, \u001b[38;5;241m*\u001b[39m\u001b[38;5;241m*\u001b[39mkwargs)\n",
      "File \u001b[1;32mc:\\Users\\xfang\\anaconda3\\envs\\geneformer\\lib\\site-packages\\matplotlib\\backend_bases.py:2193\u001b[0m, in \u001b[0;36mFigureCanvasBase.print_figure\u001b[1;34m(self, filename, dpi, facecolor, edgecolor, orientation, format, bbox_inches, pad_inches, bbox_extra_artists, backend, **kwargs)\u001b[0m\n\u001b[0;32m   2189\u001b[0m \u001b[38;5;28;01mtry\u001b[39;00m:\n\u001b[0;32m   2190\u001b[0m     \u001b[38;5;66;03m# _get_renderer may change the figure dpi (as vector formats\u001b[39;00m\n\u001b[0;32m   2191\u001b[0m     \u001b[38;5;66;03m# force the figure dpi to 72), so we need to set it again here.\u001b[39;00m\n\u001b[0;32m   2192\u001b[0m     \u001b[38;5;28;01mwith\u001b[39;00m cbook\u001b[38;5;241m.\u001b[39m_setattr_cm(\u001b[38;5;28mself\u001b[39m\u001b[38;5;241m.\u001b[39mfigure, dpi\u001b[38;5;241m=\u001b[39mdpi):\n\u001b[1;32m-> 2193\u001b[0m         result \u001b[38;5;241m=\u001b[39m print_method(\n\u001b[0;32m   2194\u001b[0m             filename,\n\u001b[0;32m   2195\u001b[0m             facecolor\u001b[38;5;241m=\u001b[39mfacecolor,\n\u001b[0;32m   2196\u001b[0m             edgecolor\u001b[38;5;241m=\u001b[39medgecolor,\n\u001b[0;32m   2197\u001b[0m             orientation\u001b[38;5;241m=\u001b[39morientation,\n\u001b[0;32m   2198\u001b[0m             bbox_inches_restore\u001b[38;5;241m=\u001b[39m_bbox_inches_restore,\n\u001b[0;32m   2199\u001b[0m             \u001b[38;5;241m*\u001b[39m\u001b[38;5;241m*\u001b[39mkwargs)\n\u001b[0;32m   2200\u001b[0m \u001b[38;5;28;01mfinally\u001b[39;00m:\n\u001b[0;32m   2201\u001b[0m     \u001b[38;5;28;01mif\u001b[39;00m bbox_inches \u001b[38;5;129;01mand\u001b[39;00m restore_bbox:\n",
      "File \u001b[1;32mc:\\Users\\xfang\\anaconda3\\envs\\geneformer\\lib\\site-packages\\matplotlib\\backend_bases.py:2043\u001b[0m, in \u001b[0;36mFigureCanvasBase._switch_canvas_and_return_print_method.<locals>.<lambda>\u001b[1;34m(*args, **kwargs)\u001b[0m\n\u001b[0;32m   2039\u001b[0m     optional_kws \u001b[38;5;241m=\u001b[39m {  \u001b[38;5;66;03m# Passed by print_figure for other renderers.\u001b[39;00m\n\u001b[0;32m   2040\u001b[0m         \u001b[38;5;124m\"\u001b[39m\u001b[38;5;124mdpi\u001b[39m\u001b[38;5;124m\"\u001b[39m, \u001b[38;5;124m\"\u001b[39m\u001b[38;5;124mfacecolor\u001b[39m\u001b[38;5;124m\"\u001b[39m, \u001b[38;5;124m\"\u001b[39m\u001b[38;5;124medgecolor\u001b[39m\u001b[38;5;124m\"\u001b[39m, \u001b[38;5;124m\"\u001b[39m\u001b[38;5;124morientation\u001b[39m\u001b[38;5;124m\"\u001b[39m,\n\u001b[0;32m   2041\u001b[0m         \u001b[38;5;124m\"\u001b[39m\u001b[38;5;124mbbox_inches_restore\u001b[39m\u001b[38;5;124m\"\u001b[39m}\n\u001b[0;32m   2042\u001b[0m     skip \u001b[38;5;241m=\u001b[39m optional_kws \u001b[38;5;241m-\u001b[39m {\u001b[38;5;241m*\u001b[39minspect\u001b[38;5;241m.\u001b[39msignature(meth)\u001b[38;5;241m.\u001b[39mparameters}\n\u001b[1;32m-> 2043\u001b[0m     print_method \u001b[38;5;241m=\u001b[39m functools\u001b[38;5;241m.\u001b[39mwraps(meth)(\u001b[38;5;28;01mlambda\u001b[39;00m \u001b[38;5;241m*\u001b[39margs, \u001b[38;5;241m*\u001b[39m\u001b[38;5;241m*\u001b[39mkwargs: meth(\n\u001b[0;32m   2044\u001b[0m         \u001b[38;5;241m*\u001b[39margs, \u001b[38;5;241m*\u001b[39m\u001b[38;5;241m*\u001b[39m{k: v \u001b[38;5;28;01mfor\u001b[39;00m k, v \u001b[38;5;129;01min\u001b[39;00m kwargs\u001b[38;5;241m.\u001b[39mitems() \u001b[38;5;28;01mif\u001b[39;00m k \u001b[38;5;129;01mnot\u001b[39;00m \u001b[38;5;129;01min\u001b[39;00m skip}))\n\u001b[0;32m   2045\u001b[0m \u001b[38;5;28;01melse\u001b[39;00m:  \u001b[38;5;66;03m# Let third-parties do as they see fit.\u001b[39;00m\n\u001b[0;32m   2046\u001b[0m     print_method \u001b[38;5;241m=\u001b[39m meth\n",
      "File \u001b[1;32mc:\\Users\\xfang\\anaconda3\\envs\\geneformer\\lib\\site-packages\\matplotlib\\backends\\backend_pdf.py:2800\u001b[0m, in \u001b[0;36mFigureCanvasPdf.print_pdf\u001b[1;34m(self, filename, bbox_inches_restore, metadata)\u001b[0m\n\u001b[0;32m   2798\u001b[0m     file \u001b[38;5;241m=\u001b[39m filename\u001b[38;5;241m.\u001b[39m_ensure_file()\n\u001b[0;32m   2799\u001b[0m \u001b[38;5;28;01melse\u001b[39;00m:\n\u001b[1;32m-> 2800\u001b[0m     file \u001b[38;5;241m=\u001b[39m \u001b[43mPdfFile\u001b[49m\u001b[43m(\u001b[49m\u001b[43mfilename\u001b[49m\u001b[43m,\u001b[49m\u001b[43m \u001b[49m\u001b[43mmetadata\u001b[49m\u001b[38;5;241;43m=\u001b[39;49m\u001b[43mmetadata\u001b[49m\u001b[43m)\u001b[49m\n\u001b[0;32m   2801\u001b[0m \u001b[38;5;28;01mtry\u001b[39;00m:\n\u001b[0;32m   2802\u001b[0m     file\u001b[38;5;241m.\u001b[39mnewPage(width, height)\n",
      "File \u001b[1;32mc:\\Users\\xfang\\anaconda3\\envs\\geneformer\\lib\\site-packages\\matplotlib\\backends\\backend_pdf.py:688\u001b[0m, in \u001b[0;36mPdfFile.__init__\u001b[1;34m(self, filename, metadata)\u001b[0m\n\u001b[0;32m    686\u001b[0m \u001b[38;5;28mself\u001b[39m\u001b[38;5;241m.\u001b[39moriginal_file_like \u001b[38;5;241m=\u001b[39m \u001b[38;5;28;01mNone\u001b[39;00m\n\u001b[0;32m    687\u001b[0m \u001b[38;5;28mself\u001b[39m\u001b[38;5;241m.\u001b[39mtell_base \u001b[38;5;241m=\u001b[39m \u001b[38;5;241m0\u001b[39m\n\u001b[1;32m--> 688\u001b[0m fh, opened \u001b[38;5;241m=\u001b[39m \u001b[43mcbook\u001b[49m\u001b[38;5;241;43m.\u001b[39;49m\u001b[43mto_filehandle\u001b[49m\u001b[43m(\u001b[49m\u001b[43mfilename\u001b[49m\u001b[43m,\u001b[49m\u001b[43m \u001b[49m\u001b[38;5;124;43m\"\u001b[39;49m\u001b[38;5;124;43mwb\u001b[39;49m\u001b[38;5;124;43m\"\u001b[39;49m\u001b[43m,\u001b[49m\u001b[43m \u001b[49m\u001b[43mreturn_opened\u001b[49m\u001b[38;5;241;43m=\u001b[39;49m\u001b[38;5;28;43;01mTrue\u001b[39;49;00m\u001b[43m)\u001b[49m\n\u001b[0;32m    689\u001b[0m \u001b[38;5;28;01mif\u001b[39;00m \u001b[38;5;129;01mnot\u001b[39;00m opened:\n\u001b[0;32m    690\u001b[0m     \u001b[38;5;28;01mtry\u001b[39;00m:\n",
      "File \u001b[1;32mc:\\Users\\xfang\\anaconda3\\envs\\geneformer\\lib\\site-packages\\matplotlib\\cbook.py:483\u001b[0m, in \u001b[0;36mto_filehandle\u001b[1;34m(fname, flag, return_opened, encoding)\u001b[0m\n\u001b[0;32m    481\u001b[0m         fh \u001b[38;5;241m=\u001b[39m bz2\u001b[38;5;241m.\u001b[39mBZ2File(fname, flag)\n\u001b[0;32m    482\u001b[0m     \u001b[38;5;28;01melse\u001b[39;00m:\n\u001b[1;32m--> 483\u001b[0m         fh \u001b[38;5;241m=\u001b[39m \u001b[38;5;28;43mopen\u001b[39;49m\u001b[43m(\u001b[49m\u001b[43mfname\u001b[49m\u001b[43m,\u001b[49m\u001b[43m \u001b[49m\u001b[43mflag\u001b[49m\u001b[43m,\u001b[49m\u001b[43m \u001b[49m\u001b[43mencoding\u001b[49m\u001b[38;5;241;43m=\u001b[39;49m\u001b[43mencoding\u001b[49m\u001b[43m)\u001b[49m\n\u001b[0;32m    484\u001b[0m     opened \u001b[38;5;241m=\u001b[39m \u001b[38;5;28;01mTrue\u001b[39;00m\n\u001b[0;32m    485\u001b[0m \u001b[38;5;28;01melif\u001b[39;00m \u001b[38;5;28mhasattr\u001b[39m(fname, \u001b[38;5;124m'\u001b[39m\u001b[38;5;124mseek\u001b[39m\u001b[38;5;124m'\u001b[39m):\n",
      "\u001b[1;31mFileNotFoundError\u001b[0m: [Errno 2] No such file or directory: '.preprocessed_dataset\\\\test_conf_mat.pdf'"
     ]
    }
   ],
   "source": [
    "cc = Classifier(classifier=\"cell\",\n",
    "                cell_state_dict = {\"state_key\": \"disease\", \"states\": \"all\"},\n",
    "                forward_batch_size=200,\n",
    "                nproc=1)    \n",
    "\n",
    "all_metrics_test = cc.evaluate_saved_model(\n",
    "        model_directory=f\"./preprocessed_dataset/240408_geneformer_cellClassifier_test/ksplit1/\",\n",
    "        id_class_dict_file=f\"./preprocessed_dataset/test_id_class_dict.pkl\",\n",
    "        test_data_file=f\"./preprocessed_dataset/test_labeled_test.dataset\",\n",
    "        output_directory=\"./preprocessed_dataset\",\n",
    "        output_prefix=\"test\",\n",
    ")\n",
    "\n",
    "cc.plot_conf_mat(\n",
    "        conf_mat_dict={\"Geneformer\": all_metrics_test[\"conf_matrix\"]},\n",
    "        output_directory=\"./preprocessed_dataset\",\n",
    "        output_prefix=\"test\",\n",
    "        custom_class_order=[\"nf\",\"hcm\",\"dcm\"],\n",
    ")"
   ]
  },
  {
   "cell_type": "code",
   "execution_count": 18,
   "metadata": {},
   "outputs": [
    {
     "data": {
      "text/plain": [
       "{'conf_matrix':       dcm    nf   hcm\n",
       " dcm  2363    15   535\n",
       " nf    293  3812   402\n",
       " hcm   567   585  8656,\n",
       " 'macro_f1': 0.8391126976991137,\n",
       " 'acc': 0.8608660320408638,\n",
       " 'all_roc_metrics': None}"
      ]
     },
     "execution_count": 18,
     "metadata": {},
     "output_type": "execute_result"
    }
   ],
   "source": [
    "all_metrics_test"
   ]
  }
 ],
 "metadata": {
  "kernelspec": {
   "display_name": "geneformer",
   "language": "python",
   "name": "python3"
  },
  "language_info": {
   "codemirror_mode": {
    "name": "ipython",
    "version": 3
   },
   "file_extension": ".py",
   "mimetype": "text/x-python",
   "name": "python",
   "nbconvert_exporter": "python",
   "pygments_lexer": "ipython3",
   "version": "3.10.3"
  }
 },
 "nbformat": 4,
 "nbformat_minor": 2
}
